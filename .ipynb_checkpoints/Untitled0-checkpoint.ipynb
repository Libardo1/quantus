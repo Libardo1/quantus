{
 "metadata": {
  "name": "",
  "signature": "sha256:1d1cad6c81aa7a3f410528603dc1e0aafd900e4b07614e0f6d4977121e95b8bd"
 },
 "nbformat": 3,
 "nbformat_minor": 0,
 "worksheets": []
}