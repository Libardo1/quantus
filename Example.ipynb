{
 "metadata": {
  "name": "",
  "signature": "sha256:92de6db4421ca1470c16806ce25d151cb5216abc0791f00fa7281a11a0560727"
 },
 "nbformat": 3,
 "nbformat_minor": 0,
 "worksheets": [
  {
   "cells": [
    {
     "cell_type": "code",
     "collapsed": false,
     "input": [
      "from src.quantus.main.master.Master import Master\n",
      "import numpy as np\n",
      "import math\n",
      "q = Master()\n",
      "q.addSlave(5557)\n",
      "q.addSlave(5558)"
     ],
     "language": "python",
     "metadata": {},
     "outputs": [
      {
       "output_type": "stream",
       "stream": "stdout",
       "text": [
        "Starting Master\n",
        "Slave:yesMaster\n",
        "Slave:yesMaster\n"
       ]
      },
      {
       "metadata": {},
       "output_type": "pyout",
       "prompt_number": 1,
       "text": [
        "'Added Slave on Port:5558'"
       ]
      }
     ],
     "prompt_number": 1
    },
    {
     "cell_type": "code",
     "collapsed": false,
     "input": [
      "matrix = q.createMatrix(4,4)"
     ],
     "language": "python",
     "metadata": {},
     "outputs": [
      {
       "output_type": "stream",
       "stream": "stdout",
       "text": [
        "Created SubVectorMaster at index:0\n",
        "Created SubVectorMaster at index:0\n",
        "Vector Created of Length:4\n",
        "Created SubVectorMaster at index:1\n",
        "Created SubVectorMaster at index:1\n",
        "Vector Created of Length:4\n",
        "Created SubVectorMaster at index:2\n",
        "Created SubVectorMaster at index:2\n",
        "Vector Created of Length:4\n",
        "Created SubVectorMaster at index:3\n",
        "Created SubVectorMaster at index:3\n",
        "Vector Created of Length:4\n"
       ]
      }
     ],
     "prompt_number": 2
    },
    {
     "cell_type": "code",
     "collapsed": false,
     "input": [
      "matrix2 = q.createMatrix(4,4)"
     ],
     "language": "python",
     "metadata": {},
     "outputs": [
      {
       "output_type": "stream",
       "stream": "stdout",
       "text": [
        "Created SubVectorMaster at index:4\n",
        "Created SubVectorMaster at index:4\n",
        "Vector Created of Length:4\n",
        "Created SubVectorMaster at index:5\n",
        "Created SubVectorMaster at index:5\n",
        "Vector Created of Length:4\n",
        "Created SubVectorMaster at index:6\n",
        "Created SubVectorMaster at index:6\n",
        "Vector Created of Length:4\n",
        "Created SubVectorMaster at index:7\n",
        "Created SubVectorMaster at index:7\n",
        "Vector Created of Length:4\n"
       ]
      }
     ],
     "prompt_number": 3
    },
    {
     "cell_type": "code",
     "collapsed": false,
     "input": [
      "matrix.add(3)"
     ],
     "language": "python",
     "metadata": {},
     "outputs": [],
     "prompt_number": 4
    },
    {
     "cell_type": "code",
     "collapsed": false,
     "input": [
      "matrix.getData()"
     ],
     "language": "python",
     "metadata": {},
     "outputs": [
      {
       "output_type": "stream",
       "stream": "stdout",
       "text": [
        "0\n",
        "0\n",
        "0\n",
        "0\n"
       ]
      },
      {
       "metadata": {},
       "output_type": "pyout",
       "prompt_number": 5,
       "text": [
        "array([[ 3.,  3.,  3.,  3.],\n",
        "       [ 3.,  3.,  3.,  3.],\n",
        "       [ 3.,  3.,  3.,  3.],\n",
        "       [ 3.,  3.,  3.,  3.]])"
       ]
      }
     ],
     "prompt_number": 5
    },
    {
     "cell_type": "code",
     "collapsed": false,
     "input": [
      "matrix2.add(1)\n",
      "matrix2.getData()"
     ],
     "language": "python",
     "metadata": {},
     "outputs": [
      {
       "output_type": "stream",
       "stream": "stdout",
       "text": [
        "0\n",
        "0\n",
        "0\n",
        "0\n"
       ]
      },
      {
       "metadata": {},
       "output_type": "pyout",
       "prompt_number": 6,
       "text": [
        "array([[ 1.,  1.,  1.,  1.],\n",
        "       [ 1.,  1.,  1.,  1.],\n",
        "       [ 1.,  1.,  1.,  1.],\n",
        "       [ 1.,  1.,  1.,  1.]])"
       ]
      }
     ],
     "prompt_number": 6
    },
    {
     "cell_type": "code",
     "collapsed": false,
     "input": [
      "matrix.add(matrix2)"
     ],
     "language": "python",
     "metadata": {},
     "outputs": [
      {
       "output_type": "stream",
       "stream": "stdout",
       "text": [
        "executing elementwise matrix addition\n",
        "executing vector addition\n",
        "executing vector addition\n",
        "executing vector addition\n",
        "executing vector addition\n"
       ]
      }
     ],
     "prompt_number": 7
    },
    {
     "cell_type": "code",
     "collapsed": false,
     "input": [
      "matrix.getData()"
     ],
     "language": "python",
     "metadata": {},
     "outputs": [
      {
       "output_type": "stream",
       "stream": "stdout",
       "text": [
        "0\n",
        "0\n",
        "0\n",
        "0\n"
       ]
      },
      {
       "metadata": {},
       "output_type": "pyout",
       "prompt_number": 8,
       "text": [
        "array([[ 4.,  4.,  4.,  4.],\n",
        "       [ 4.,  4.,  4.,  4.],\n",
        "       [ 4.,  4.,  4.,  4.],\n",
        "       [ 4.,  4.,  4.,  4.]])"
       ]
      }
     ],
     "prompt_number": 8
    },
    {
     "cell_type": "code",
     "collapsed": false,
     "input": [],
     "language": "python",
     "metadata": {},
     "outputs": []
    }
   ],
   "metadata": {}
  }
 ]
}