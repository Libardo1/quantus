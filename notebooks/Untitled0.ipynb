{
 "metadata": {
  "name": "",
  "signature": "sha256:34f548fbf8f2049e966b8bbf1b49a783835ceed3ef4517cfc4b1aa0c0454d704"
 },
 "nbformat": 3,
 "nbformat_minor": 0,
 "worksheets": [
  {
   "cells": [
    {
     "cell_type": "code",
     "collapsed": false,
     "input": [
      "import quantus.main.master.Master as q"
     ],
     "language": "python",
     "metadata": {},
     "outputs": [],
     "prompt_number": 1
    },
    {
     "cell_type": "code",
     "collapsed": false,
     "input": [
      "q = q.Master()"
     ],
     "language": "python",
     "metadata": {},
     "outputs": [
      {
       "output_type": "stream",
       "stream": "stdout",
       "text": [
        "Starting Master\n"
       ]
      }
     ],
     "prompt_number": 2
    },
    {
     "cell_type": "code",
     "collapsed": false,
     "input": [
      "q.addSlave(5557)"
     ],
     "language": "python",
     "metadata": {},
     "outputs": [
      {
       "output_type": "stream",
       "stream": "stdout",
       "text": [
        "Slave:yesMaster\n"
       ]
      },
      {
       "metadata": {},
       "output_type": "pyout",
       "prompt_number": 3,
       "text": [
        "'Added Slave on Port:5557'"
       ]
      }
     ],
     "prompt_number": 3
    },
    {
     "cell_type": "code",
     "collapsed": false,
     "input": [
      "q.addSlave(5558)"
     ],
     "language": "python",
     "metadata": {},
     "outputs": [
      {
       "output_type": "stream",
       "stream": "stdout",
       "text": [
        "Slave:yesMaster\n"
       ]
      },
      {
       "metadata": {},
       "output_type": "pyout",
       "prompt_number": 4,
       "text": [
        "'Added Slave on Port:5558'"
       ]
      }
     ],
     "prompt_number": 4
    },
    {
     "cell_type": "code",
     "collapsed": false,
     "input": [
      "matrix = q.createMatrix(4,4)"
     ],
     "language": "python",
     "metadata": {},
     "outputs": [
      {
       "output_type": "stream",
       "stream": "stdout",
       "text": [
        "Created SubVectorMaster at index:0\n",
        "Created SubVectorMaster at index:0\n",
        "Vector Created of Length:4\n",
        "Created SubVectorMaster at index:1\n",
        "Created SubVectorMaster at index:1\n",
        "Vector Created of Length:4\n",
        "Created SubVectorMaster at index:2\n",
        "Created SubVectorMaster at index:2\n",
        "Vector Created of Length:4\n",
        "Created SubVectorMaster at index:3\n",
        "Created SubVectorMaster at index:3\n",
        "Vector Created of Length:4\n"
       ]
      }
     ],
     "prompt_number": 5
    },
    {
     "cell_type": "code",
     "collapsed": false,
     "input": [],
     "language": "python",
     "metadata": {},
     "outputs": []
    }
   ],
   "metadata": {}
  }
 ]
}